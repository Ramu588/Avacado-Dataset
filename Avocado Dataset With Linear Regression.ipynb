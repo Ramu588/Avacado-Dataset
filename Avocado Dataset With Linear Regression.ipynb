{
 "cells": [
  {
   "cell_type": "markdown",
   "id": "c491a4bc",
   "metadata": {},
   "source": [
    "\n",
    "## **<center>Linear Regression - Avocado price dataset Project</center>**"
   ]
  },
  {
   "cell_type": "markdown",
   "id": "5ea4dc7c",
   "metadata": {},
   "source": [
    "---\n",
    "<a name = Section2></a>\n",
    "# **Problem Statement**\n",
    "---\n",
    "\n",
    "- Avacard-corp avocados are sourced from over 1000 growers owning over 65,000 acres across California, Mexico, Chile, and Peru.\n",
    "\n",
    "- With generations of experience growing, packing, and shipping avocados, they have a deep understanding of the avocado industry.\n",
    "\n",
    "- Their aim is to source quality fruit that’s sustainably grown and handled in the most efficient, shortest supply route possible.\n",
    "\n",
    "- They want to increase their supply throughout the United States and need to make sure that they are selling their products at the best possible price.\n",
    "\n",
    "- Avocado prices have rocketed in recent years by up to 129%, with the average national price in the US of a single Hass avocado reaching $2.10 in 2019, almost doubling in just one year.\n",
    "\n",
    "- Due to this uncertainty in the prices, the company is not able to sell their produce at the optimal price.\n",
    "\n",
    "- Task is to predict the optimal price of the avocardo using the previous sales data of avocardo according to different regions.**model's predictions**."
   ]
  },
  {
   "cell_type": "markdown",
   "id": "c2001476",
   "metadata": {},
   "source": [
    "<a name = Section33></a>\n",
    "### **Importing Libraries**"
   ]
  },
  {
   "cell_type": "code",
   "execution_count": 1,
   "id": "6890c38b",
   "metadata": {},
   "outputs": [],
   "source": [
    "import numpy as np\n",
    "import pandas as pd\n",
    "import matplotlib.pyplot as plt\n",
    "import seaborn as sns\n",
    "%matplotlib inline\n",
    "\n",
    "from sklearn.model_selection import train_test_split\n",
    "from sklearn.preprocessing import StandardScaler\n",
    "from sklearn.linear_model import LinearRegression\n",
    "from sklearn.metrics import mean_squared_error\n",
    "from sklearn.metrics import mean_absolute_error\n",
    "from sklearn.metrics import r2_score\n",
    "from sklearn import metrics\n",
    "\n",
    "import warnings\n",
    "warnings.filterwarnings(\"ignore\")  "
   ]
  },
  {
   "cell_type": "markdown",
   "id": "9533565c",
   "metadata": {},
   "source": [
    "<a name = Section33></a>\n",
    "### **Data Acquisition**"
   ]
  },
  {
   "cell_type": "code",
   "execution_count": 2,
   "id": "f0f2da43",
   "metadata": {},
   "outputs": [
    {
     "data": {
      "text/html": [
       "<div>\n",
       "<style scoped>\n",
       "    .dataframe tbody tr th:only-of-type {\n",
       "        vertical-align: middle;\n",
       "    }\n",
       "\n",
       "    .dataframe tbody tr th {\n",
       "        vertical-align: top;\n",
       "    }\n",
       "\n",
       "    .dataframe thead th {\n",
       "        text-align: right;\n",
       "    }\n",
       "</style>\n",
       "<table border=\"1\" class=\"dataframe\">\n",
       "  <thead>\n",
       "    <tr style=\"text-align: right;\">\n",
       "      <th></th>\n",
       "      <th>Unnamed: 0</th>\n",
       "      <th>Date</th>\n",
       "      <th>AveragePrice</th>\n",
       "      <th>Total Volume</th>\n",
       "      <th>4046</th>\n",
       "      <th>4225</th>\n",
       "      <th>4770</th>\n",
       "      <th>Total Bags</th>\n",
       "      <th>Small Bags</th>\n",
       "      <th>Large Bags</th>\n",
       "      <th>XLarge Bags</th>\n",
       "      <th>type</th>\n",
       "      <th>year</th>\n",
       "      <th>region</th>\n",
       "    </tr>\n",
       "  </thead>\n",
       "  <tbody>\n",
       "    <tr>\n",
       "      <th>0</th>\n",
       "      <td>0</td>\n",
       "      <td>2015-12-27</td>\n",
       "      <td>1.33</td>\n",
       "      <td>64236.62</td>\n",
       "      <td>1036.74</td>\n",
       "      <td>54454.85</td>\n",
       "      <td>48.16</td>\n",
       "      <td>8696.87</td>\n",
       "      <td>8603.62</td>\n",
       "      <td>93.25</td>\n",
       "      <td>0.0</td>\n",
       "      <td>conventional</td>\n",
       "      <td>2015</td>\n",
       "      <td>Albany</td>\n",
       "    </tr>\n",
       "    <tr>\n",
       "      <th>1</th>\n",
       "      <td>1</td>\n",
       "      <td>2015-12-20</td>\n",
       "      <td>1.35</td>\n",
       "      <td>54876.98</td>\n",
       "      <td>674.28</td>\n",
       "      <td>44638.81</td>\n",
       "      <td>58.33</td>\n",
       "      <td>9505.56</td>\n",
       "      <td>9408.07</td>\n",
       "      <td>97.49</td>\n",
       "      <td>0.0</td>\n",
       "      <td>conventional</td>\n",
       "      <td>2015</td>\n",
       "      <td>Albany</td>\n",
       "    </tr>\n",
       "    <tr>\n",
       "      <th>2</th>\n",
       "      <td>2</td>\n",
       "      <td>2015-12-13</td>\n",
       "      <td>0.93</td>\n",
       "      <td>118220.22</td>\n",
       "      <td>794.70</td>\n",
       "      <td>109149.67</td>\n",
       "      <td>130.50</td>\n",
       "      <td>8145.35</td>\n",
       "      <td>8042.21</td>\n",
       "      <td>103.14</td>\n",
       "      <td>0.0</td>\n",
       "      <td>conventional</td>\n",
       "      <td>2015</td>\n",
       "      <td>Albany</td>\n",
       "    </tr>\n",
       "    <tr>\n",
       "      <th>3</th>\n",
       "      <td>3</td>\n",
       "      <td>2015-12-06</td>\n",
       "      <td>1.08</td>\n",
       "      <td>78992.15</td>\n",
       "      <td>1132.00</td>\n",
       "      <td>71976.41</td>\n",
       "      <td>72.58</td>\n",
       "      <td>5811.16</td>\n",
       "      <td>5677.40</td>\n",
       "      <td>133.76</td>\n",
       "      <td>0.0</td>\n",
       "      <td>conventional</td>\n",
       "      <td>2015</td>\n",
       "      <td>Albany</td>\n",
       "    </tr>\n",
       "    <tr>\n",
       "      <th>4</th>\n",
       "      <td>4</td>\n",
       "      <td>2015-11-29</td>\n",
       "      <td>1.28</td>\n",
       "      <td>51039.60</td>\n",
       "      <td>941.48</td>\n",
       "      <td>43838.39</td>\n",
       "      <td>75.78</td>\n",
       "      <td>6183.95</td>\n",
       "      <td>5986.26</td>\n",
       "      <td>197.69</td>\n",
       "      <td>0.0</td>\n",
       "      <td>conventional</td>\n",
       "      <td>2015</td>\n",
       "      <td>Albany</td>\n",
       "    </tr>\n",
       "  </tbody>\n",
       "</table>\n",
       "</div>"
      ],
      "text/plain": [
       "   Unnamed: 0        Date  AveragePrice  Total Volume     4046       4225  \\\n",
       "0           0  2015-12-27          1.33      64236.62  1036.74   54454.85   \n",
       "1           1  2015-12-20          1.35      54876.98   674.28   44638.81   \n",
       "2           2  2015-12-13          0.93     118220.22   794.70  109149.67   \n",
       "3           3  2015-12-06          1.08      78992.15  1132.00   71976.41   \n",
       "4           4  2015-11-29          1.28      51039.60   941.48   43838.39   \n",
       "\n",
       "     4770  Total Bags  Small Bags  Large Bags  XLarge Bags          type  \\\n",
       "0   48.16     8696.87     8603.62       93.25          0.0  conventional   \n",
       "1   58.33     9505.56     9408.07       97.49          0.0  conventional   \n",
       "2  130.50     8145.35     8042.21      103.14          0.0  conventional   \n",
       "3   72.58     5811.16     5677.40      133.76          0.0  conventional   \n",
       "4   75.78     6183.95     5986.26      197.69          0.0  conventional   \n",
       "\n",
       "   year  region  \n",
       "0  2015  Albany  \n",
       "1  2015  Albany  \n",
       "2  2015  Albany  \n",
       "3  2015  Albany  \n",
       "4  2015  Albany  "
      ]
     },
     "execution_count": 2,
     "metadata": {},
     "output_type": "execute_result"
    }
   ],
   "source": [
    "dfavocado=pd.read_csv('https://raw.githubusercontent.com/insaid2018/Term-2/master/Projects/avocado.csv')\n",
    "dfavocado.head()"
   ]
  },
  {
   "cell_type": "markdown",
   "id": "c948b227",
   "metadata": {},
   "source": [
    "---\n",
    "<a name = Section4></a>\n",
    "- The dataset contains weekly retail scan data for National Retail Volume (units) and price.\n",
    "\n",
    "- Retail scan data comes directly from retailers’ cash registers based on actual retail sales of Hass avocados.\n",
    "\n",
    "- The column AveragePrice is the average price of a single avocado.\n",
    "\n",
    "- This is the data that we have to predict for future samples."
   ]
  },
  {
   "cell_type": "markdown",
   "id": "5ff4f2fb",
   "metadata": {},
   "source": [
    "||Column Name|Description|\n",
    "|:--|:--|:--|\n",
    "||**Id**| Unique identity of each observation. |\n",
    "||**Date**| The date of the observation. |\n",
    "||**AveragePrice**| The average price of a single avocado. |\n",
    "||**Total Volume**| Total number of avocados sold. |\n",
    "||**4046**| Total number of avocados with PLU 4046 sold. |\n",
    "||**4225**| Total number of avocados with PLU 4225 sold. |\n",
    "||**4770**| Total number of avocados with PLU 4770 sold. |\n",
    "||**Total Bags**| Total number of bags sold. |\n",
    "||**Small Bags**| Total number of small bags sold.|\n",
    "||**Large Bags**| Total number of large bags sold.|\n",
    "||**XLarge Bags**| Total number of extra-large bags sold.|\n",
    "||**type**| Type of an avocado (conventional or organic).|\n",
    "||**year**| The year of observation. |\n",
    "||**Region**| The city or region of the observation.|"
   ]
  },
  {
   "cell_type": "markdown",
   "id": "c458561c",
   "metadata": {},
   "source": [
    "<a name = Section41></a>\n",
    "### **Data Info, Data Description and Null Value Checking**\n",
    "\n",
    "- In this section we will get **description** and **statistics** about the data."
   ]
  },
  {
   "cell_type": "code",
   "execution_count": 3,
   "id": "daa40630",
   "metadata": {},
   "outputs": [],
   "source": [
    "dfavocado.drop(columns=['Unnamed: 0'],inplace=True)"
   ]
  },
  {
   "cell_type": "code",
   "execution_count": 4,
   "id": "75aa38cc",
   "metadata": {},
   "outputs": [
    {
     "name": "stdout",
     "output_type": "stream",
     "text": [
      "<class 'pandas.core.frame.DataFrame'>\n",
      "RangeIndex: 18249 entries, 0 to 18248\n",
      "Data columns (total 13 columns):\n",
      " #   Column        Non-Null Count  Dtype  \n",
      "---  ------        --------------  -----  \n",
      " 0   Date          18249 non-null  object \n",
      " 1   AveragePrice  18249 non-null  float64\n",
      " 2   Total Volume  18249 non-null  float64\n",
      " 3   4046          18249 non-null  float64\n",
      " 4   4225          18249 non-null  float64\n",
      " 5   4770          18249 non-null  float64\n",
      " 6   Total Bags    18249 non-null  float64\n",
      " 7   Small Bags    18249 non-null  float64\n",
      " 8   Large Bags    18249 non-null  float64\n",
      " 9   XLarge Bags   18249 non-null  float64\n",
      " 10  type          18249 non-null  object \n",
      " 11  year          18249 non-null  int64  \n",
      " 12  region        18249 non-null  object \n",
      "dtypes: float64(9), int64(1), object(3)\n",
      "memory usage: 1.8+ MB\n"
     ]
    }
   ],
   "source": [
    "dfavocado.info()"
   ]
  },
  {
   "cell_type": "code",
   "execution_count": 5,
   "id": "1b0e353f",
   "metadata": {},
   "outputs": [
    {
     "data": {
      "text/plain": [
       "Date            0\n",
       "AveragePrice    0\n",
       "Total Volume    0\n",
       "4046            0\n",
       "4225            0\n",
       "4770            0\n",
       "Total Bags      0\n",
       "Small Bags      0\n",
       "Large Bags      0\n",
       "XLarge Bags     0\n",
       "type            0\n",
       "year            0\n",
       "region          0\n",
       "dtype: int64"
      ]
     },
     "execution_count": 5,
     "metadata": {},
     "output_type": "execute_result"
    }
   ],
   "source": [
    "dfavocado.isna().sum()"
   ]
  },
  {
   "cell_type": "code",
   "execution_count": 6,
   "id": "dc8011d7",
   "metadata": {},
   "outputs": [
    {
     "data": {
      "text/html": [
       "<div>\n",
       "<style scoped>\n",
       "    .dataframe tbody tr th:only-of-type {\n",
       "        vertical-align: middle;\n",
       "    }\n",
       "\n",
       "    .dataframe tbody tr th {\n",
       "        vertical-align: top;\n",
       "    }\n",
       "\n",
       "    .dataframe thead th {\n",
       "        text-align: right;\n",
       "    }\n",
       "</style>\n",
       "<table border=\"1\" class=\"dataframe\">\n",
       "  <thead>\n",
       "    <tr style=\"text-align: right;\">\n",
       "      <th></th>\n",
       "      <th>AveragePrice</th>\n",
       "      <th>Total Volume</th>\n",
       "      <th>4046</th>\n",
       "      <th>4225</th>\n",
       "      <th>4770</th>\n",
       "      <th>Total Bags</th>\n",
       "      <th>Small Bags</th>\n",
       "      <th>Large Bags</th>\n",
       "      <th>XLarge Bags</th>\n",
       "      <th>year</th>\n",
       "    </tr>\n",
       "  </thead>\n",
       "  <tbody>\n",
       "    <tr>\n",
       "      <th>count</th>\n",
       "      <td>18249.000000</td>\n",
       "      <td>1.824900e+04</td>\n",
       "      <td>1.824900e+04</td>\n",
       "      <td>1.824900e+04</td>\n",
       "      <td>1.824900e+04</td>\n",
       "      <td>1.824900e+04</td>\n",
       "      <td>1.824900e+04</td>\n",
       "      <td>1.824900e+04</td>\n",
       "      <td>18249.000000</td>\n",
       "      <td>18249.000000</td>\n",
       "    </tr>\n",
       "    <tr>\n",
       "      <th>mean</th>\n",
       "      <td>1.405978</td>\n",
       "      <td>8.506440e+05</td>\n",
       "      <td>2.930084e+05</td>\n",
       "      <td>2.951546e+05</td>\n",
       "      <td>2.283974e+04</td>\n",
       "      <td>2.396392e+05</td>\n",
       "      <td>1.821947e+05</td>\n",
       "      <td>5.433809e+04</td>\n",
       "      <td>3106.426507</td>\n",
       "      <td>2016.147899</td>\n",
       "    </tr>\n",
       "    <tr>\n",
       "      <th>std</th>\n",
       "      <td>0.402677</td>\n",
       "      <td>3.453545e+06</td>\n",
       "      <td>1.264989e+06</td>\n",
       "      <td>1.204120e+06</td>\n",
       "      <td>1.074641e+05</td>\n",
       "      <td>9.862424e+05</td>\n",
       "      <td>7.461785e+05</td>\n",
       "      <td>2.439660e+05</td>\n",
       "      <td>17692.894652</td>\n",
       "      <td>0.939938</td>\n",
       "    </tr>\n",
       "    <tr>\n",
       "      <th>min</th>\n",
       "      <td>0.440000</td>\n",
       "      <td>8.456000e+01</td>\n",
       "      <td>0.000000e+00</td>\n",
       "      <td>0.000000e+00</td>\n",
       "      <td>0.000000e+00</td>\n",
       "      <td>0.000000e+00</td>\n",
       "      <td>0.000000e+00</td>\n",
       "      <td>0.000000e+00</td>\n",
       "      <td>0.000000</td>\n",
       "      <td>2015.000000</td>\n",
       "    </tr>\n",
       "    <tr>\n",
       "      <th>25%</th>\n",
       "      <td>1.100000</td>\n",
       "      <td>1.083858e+04</td>\n",
       "      <td>8.540700e+02</td>\n",
       "      <td>3.008780e+03</td>\n",
       "      <td>0.000000e+00</td>\n",
       "      <td>5.088640e+03</td>\n",
       "      <td>2.849420e+03</td>\n",
       "      <td>1.274700e+02</td>\n",
       "      <td>0.000000</td>\n",
       "      <td>2015.000000</td>\n",
       "    </tr>\n",
       "    <tr>\n",
       "      <th>50%</th>\n",
       "      <td>1.370000</td>\n",
       "      <td>1.073768e+05</td>\n",
       "      <td>8.645300e+03</td>\n",
       "      <td>2.906102e+04</td>\n",
       "      <td>1.849900e+02</td>\n",
       "      <td>3.974383e+04</td>\n",
       "      <td>2.636282e+04</td>\n",
       "      <td>2.647710e+03</td>\n",
       "      <td>0.000000</td>\n",
       "      <td>2016.000000</td>\n",
       "    </tr>\n",
       "    <tr>\n",
       "      <th>75%</th>\n",
       "      <td>1.660000</td>\n",
       "      <td>4.329623e+05</td>\n",
       "      <td>1.110202e+05</td>\n",
       "      <td>1.502069e+05</td>\n",
       "      <td>6.243420e+03</td>\n",
       "      <td>1.107834e+05</td>\n",
       "      <td>8.333767e+04</td>\n",
       "      <td>2.202925e+04</td>\n",
       "      <td>132.500000</td>\n",
       "      <td>2017.000000</td>\n",
       "    </tr>\n",
       "    <tr>\n",
       "      <th>max</th>\n",
       "      <td>3.250000</td>\n",
       "      <td>6.250565e+07</td>\n",
       "      <td>2.274362e+07</td>\n",
       "      <td>2.047057e+07</td>\n",
       "      <td>2.546439e+06</td>\n",
       "      <td>1.937313e+07</td>\n",
       "      <td>1.338459e+07</td>\n",
       "      <td>5.719097e+06</td>\n",
       "      <td>551693.650000</td>\n",
       "      <td>2018.000000</td>\n",
       "    </tr>\n",
       "  </tbody>\n",
       "</table>\n",
       "</div>"
      ],
      "text/plain": [
       "       AveragePrice  Total Volume          4046          4225          4770  \\\n",
       "count  18249.000000  1.824900e+04  1.824900e+04  1.824900e+04  1.824900e+04   \n",
       "mean       1.405978  8.506440e+05  2.930084e+05  2.951546e+05  2.283974e+04   \n",
       "std        0.402677  3.453545e+06  1.264989e+06  1.204120e+06  1.074641e+05   \n",
       "min        0.440000  8.456000e+01  0.000000e+00  0.000000e+00  0.000000e+00   \n",
       "25%        1.100000  1.083858e+04  8.540700e+02  3.008780e+03  0.000000e+00   \n",
       "50%        1.370000  1.073768e+05  8.645300e+03  2.906102e+04  1.849900e+02   \n",
       "75%        1.660000  4.329623e+05  1.110202e+05  1.502069e+05  6.243420e+03   \n",
       "max        3.250000  6.250565e+07  2.274362e+07  2.047057e+07  2.546439e+06   \n",
       "\n",
       "         Total Bags    Small Bags    Large Bags    XLarge Bags          year  \n",
       "count  1.824900e+04  1.824900e+04  1.824900e+04   18249.000000  18249.000000  \n",
       "mean   2.396392e+05  1.821947e+05  5.433809e+04    3106.426507   2016.147899  \n",
       "std    9.862424e+05  7.461785e+05  2.439660e+05   17692.894652      0.939938  \n",
       "min    0.000000e+00  0.000000e+00  0.000000e+00       0.000000   2015.000000  \n",
       "25%    5.088640e+03  2.849420e+03  1.274700e+02       0.000000   2015.000000  \n",
       "50%    3.974383e+04  2.636282e+04  2.647710e+03       0.000000   2016.000000  \n",
       "75%    1.107834e+05  8.333767e+04  2.202925e+04     132.500000   2017.000000  \n",
       "max    1.937313e+07  1.338459e+07  5.719097e+06  551693.650000   2018.000000  "
      ]
     },
     "execution_count": 6,
     "metadata": {},
     "output_type": "execute_result"
    }
   ],
   "source": [
    "dfavocado.describe()"
   ]
  },
  {
   "cell_type": "markdown",
   "id": "d08bf62d",
   "metadata": {},
   "source": [
    "<a name = Section5></a>\n",
    "### **Data Pre-Profiling**\n",
    "---\n",
    "\n",
    "- This section is emphasised on getting a report about the data.\n",
    "\n",
    "- You need to perform pandas profiling and get some observations out of it..."
   ]
  },
  {
   "cell_type": "code",
   "execution_count": 7,
   "id": "6f9b4d8e",
   "metadata": {},
   "outputs": [
    {
     "data": {
      "application/vnd.jupyter.widget-view+json": {
       "model_id": "dd6fdb2aa05a40aa8f25f8d53b558e06",
       "version_major": 2,
       "version_minor": 0
      },
      "text/plain": [
       "Summarize dataset:   0%|          | 0/25 [00:00<?, ?it/s]"
      ]
     },
     "metadata": {},
     "output_type": "display_data"
    },
    {
     "data": {
      "application/vnd.jupyter.widget-view+json": {
       "model_id": "299ef1b22a7c4a899f246fa424255270",
       "version_major": 2,
       "version_minor": 0
      },
      "text/plain": [
       "Generate report structure:   0%|          | 0/1 [00:00<?, ?it/s]"
      ]
     },
     "metadata": {},
     "output_type": "display_data"
    },
    {
     "data": {
      "application/vnd.jupyter.widget-view+json": {
       "model_id": "",
       "version_major": 2,
       "version_minor": 0
      },
      "text/plain": [
       "Render widgets:   0%|          | 0/1 [00:00<?, ?it/s]"
      ]
     },
     "metadata": {},
     "output_type": "display_data"
    },
    {
     "data": {
      "application/vnd.jupyter.widget-view+json": {
       "model_id": "005cd13822464220b493330bf7d96f63",
       "version_major": 2,
       "version_minor": 0
      },
      "text/plain": [
       "VBox(children=(Tab(children=(Tab(children=(GridBox(children=(VBox(children=(GridspecLayout(children=(HTML(valu…"
      ]
     },
     "metadata": {},
     "output_type": "display_data"
    }
   ],
   "source": [
    "from pandas_profiling import ProfileReport\n",
    "profile=ProfileReport(dfavocado,title='Pandas Profile Report')\n",
    "profile.to_widgets()"
   ]
  },
  {
   "cell_type": "markdown",
   "id": "53d9578d",
   "metadata": {},
   "source": [
    "<a name = Section41></a>\n",
    "### **Data Pre-processing**\n"
   ]
  },
  {
   "cell_type": "code",
   "execution_count": 8,
   "id": "b06d70ec",
   "metadata": {},
   "outputs": [],
   "source": [
    "dfavocado['otherPLU']=dfavocado['Total Volume']-(dfavocado['4046']+dfavocado['4225']+dfavocado['4770'])"
   ]
  },
  {
   "cell_type": "code",
   "execution_count": 9,
   "id": "cb650775",
   "metadata": {},
   "outputs": [],
   "source": [
    "import datetime"
   ]
  },
  {
   "cell_type": "code",
   "execution_count": 10,
   "id": "04184ea6",
   "metadata": {},
   "outputs": [],
   "source": [
    "dfavocado['Date'] = pd.to_datetime(dfavocado['Date'], format='%Y-%m-%d')"
   ]
  },
  {
   "cell_type": "code",
   "execution_count": 11,
   "id": "82f627f7",
   "metadata": {
    "scrolled": true
   },
   "outputs": [],
   "source": [
    "dfavocado['Month']=dfavocado['Date'].dt.month"
   ]
  },
  {
   "cell_type": "code",
   "execution_count": 12,
   "id": "dfb1e523",
   "metadata": {},
   "outputs": [],
   "source": [
    "dfavocadofinal=dfavocado.drop(columns=['Date','Total Volume'])"
   ]
  },
  {
   "cell_type": "code",
   "execution_count": 13,
   "id": "4c23acca",
   "metadata": {},
   "outputs": [],
   "source": [
    "cols=['AveragePrice','4046','4225','4770','otherPLU','Small Bags','Large Bags','XLarge Bags','Total Bags',\n",
    "     'type','Month','year','region']\n",
    "dfavocadofinal=dfavocadofinal[cols]"
   ]
  },
  {
   "cell_type": "code",
   "execution_count": 14,
   "id": "602e9106",
   "metadata": {
    "scrolled": false
   },
   "outputs": [],
   "source": [
    "#Dropping the columns\n",
    "dfavocadofinal.drop(columns=['Small Bags','Large Bags','XLarge Bags','Total Bags'],inplace=True)"
   ]
  },
  {
   "cell_type": "code",
   "execution_count": 15,
   "id": "e0188ceb",
   "metadata": {},
   "outputs": [
    {
     "data": {
      "text/html": [
       "<div>\n",
       "<style scoped>\n",
       "    .dataframe tbody tr th:only-of-type {\n",
       "        vertical-align: middle;\n",
       "    }\n",
       "\n",
       "    .dataframe tbody tr th {\n",
       "        vertical-align: top;\n",
       "    }\n",
       "\n",
       "    .dataframe thead th {\n",
       "        text-align: right;\n",
       "    }\n",
       "</style>\n",
       "<table border=\"1\" class=\"dataframe\">\n",
       "  <thead>\n",
       "    <tr style=\"text-align: right;\">\n",
       "      <th></th>\n",
       "      <th>AveragePrice</th>\n",
       "      <th>4046</th>\n",
       "      <th>4225</th>\n",
       "      <th>4770</th>\n",
       "      <th>otherPLU</th>\n",
       "      <th>type</th>\n",
       "      <th>Month</th>\n",
       "      <th>year</th>\n",
       "      <th>region</th>\n",
       "    </tr>\n",
       "  </thead>\n",
       "  <tbody>\n",
       "    <tr>\n",
       "      <th>14669</th>\n",
       "      <td>1.39</td>\n",
       "      <td>55508.03</td>\n",
       "      <td>137201.71</td>\n",
       "      <td>269.80</td>\n",
       "      <td>59672.85</td>\n",
       "      <td>organic</td>\n",
       "      <td>5</td>\n",
       "      <td>2016</td>\n",
       "      <td>West</td>\n",
       "    </tr>\n",
       "    <tr>\n",
       "      <th>13255</th>\n",
       "      <td>1.75</td>\n",
       "      <td>3832.04</td>\n",
       "      <td>54656.68</td>\n",
       "      <td>5019.61</td>\n",
       "      <td>39620.46</td>\n",
       "      <td>organic</td>\n",
       "      <td>7</td>\n",
       "      <td>2016</td>\n",
       "      <td>Midsouth</td>\n",
       "    </tr>\n",
       "    <tr>\n",
       "      <th>17949</th>\n",
       "      <td>1.58</td>\n",
       "      <td>19823.16</td>\n",
       "      <td>58366.54</td>\n",
       "      <td>201.04</td>\n",
       "      <td>296468.94</td>\n",
       "      <td>organic</td>\n",
       "      <td>3</td>\n",
       "      <td>2018</td>\n",
       "      <td>Northeast</td>\n",
       "    </tr>\n",
       "    <tr>\n",
       "      <th>4662</th>\n",
       "      <td>0.97</td>\n",
       "      <td>925373.29</td>\n",
       "      <td>636658.22</td>\n",
       "      <td>27641.97</td>\n",
       "      <td>504325.11</td>\n",
       "      <td>conventional</td>\n",
       "      <td>5</td>\n",
       "      <td>2016</td>\n",
       "      <td>Plains</td>\n",
       "    </tr>\n",
       "    <tr>\n",
       "      <th>15016</th>\n",
       "      <td>1.35</td>\n",
       "      <td>231.39</td>\n",
       "      <td>135.86</td>\n",
       "      <td>0.00</td>\n",
       "      <td>9748.70</td>\n",
       "      <td>organic</td>\n",
       "      <td>10</td>\n",
       "      <td>2017</td>\n",
       "      <td>BuffaloRochester</td>\n",
       "    </tr>\n",
       "  </tbody>\n",
       "</table>\n",
       "</div>"
      ],
      "text/plain": [
       "       AveragePrice       4046       4225      4770   otherPLU          type  \\\n",
       "14669          1.39   55508.03  137201.71    269.80   59672.85       organic   \n",
       "13255          1.75    3832.04   54656.68   5019.61   39620.46       organic   \n",
       "17949          1.58   19823.16   58366.54    201.04  296468.94       organic   \n",
       "4662           0.97  925373.29  636658.22  27641.97  504325.11  conventional   \n",
       "15016          1.35     231.39     135.86      0.00    9748.70       organic   \n",
       "\n",
       "       Month  year            region  \n",
       "14669      5  2016              West  \n",
       "13255      7  2016          Midsouth  \n",
       "17949      3  2018         Northeast  \n",
       "4662       5  2016            Plains  \n",
       "15016     10  2017  BuffaloRochester  "
      ]
     },
     "execution_count": 15,
     "metadata": {},
     "output_type": "execute_result"
    }
   ],
   "source": [
    "dfavocadofinal.sample(n=5)"
   ]
  },
  {
   "cell_type": "code",
   "execution_count": 16,
   "id": "3c19c609",
   "metadata": {},
   "outputs": [],
   "source": [
    "dfavocadofinal=pd.get_dummies(dfavocadofinal,columns=['type'],drop_first=True)"
   ]
  },
  {
   "cell_type": "code",
   "execution_count": 17,
   "id": "b954f47a",
   "metadata": {},
   "outputs": [],
   "source": [
    "from sklearn.preprocessing import LabelEncoder"
   ]
  },
  {
   "cell_type": "code",
   "execution_count": 18,
   "id": "f43a1ef6",
   "metadata": {},
   "outputs": [],
   "source": [
    "le=LabelEncoder()\n",
    "dfregiion = dfavocadofinal[['region']].apply(le.fit_transform)"
   ]
  },
  {
   "cell_type": "code",
   "execution_count": 19,
   "id": "29916d8a",
   "metadata": {},
   "outputs": [],
   "source": [
    "dfavocadofinal.drop('region',axis=1,inplace=True)"
   ]
  },
  {
   "cell_type": "code",
   "execution_count": 20,
   "id": "aebb4c40",
   "metadata": {},
   "outputs": [],
   "source": [
    "dfavocadofinal=dfavocadofinal.join(dfregiion['region'])"
   ]
  },
  {
   "cell_type": "code",
   "execution_count": 21,
   "id": "a176243f",
   "metadata": {},
   "outputs": [
    {
     "data": {
      "text/html": [
       "<div>\n",
       "<style scoped>\n",
       "    .dataframe tbody tr th:only-of-type {\n",
       "        vertical-align: middle;\n",
       "    }\n",
       "\n",
       "    .dataframe tbody tr th {\n",
       "        vertical-align: top;\n",
       "    }\n",
       "\n",
       "    .dataframe thead th {\n",
       "        text-align: right;\n",
       "    }\n",
       "</style>\n",
       "<table border=\"1\" class=\"dataframe\">\n",
       "  <thead>\n",
       "    <tr style=\"text-align: right;\">\n",
       "      <th></th>\n",
       "      <th>AveragePrice</th>\n",
       "      <th>4046</th>\n",
       "      <th>4225</th>\n",
       "      <th>4770</th>\n",
       "      <th>otherPLU</th>\n",
       "      <th>Month</th>\n",
       "      <th>year</th>\n",
       "      <th>type_organic</th>\n",
       "      <th>region</th>\n",
       "    </tr>\n",
       "  </thead>\n",
       "  <tbody>\n",
       "    <tr>\n",
       "      <th>2776</th>\n",
       "      <td>0.74</td>\n",
       "      <td>576883.27</td>\n",
       "      <td>154758.26</td>\n",
       "      <td>20222.28</td>\n",
       "      <td>134020.11</td>\n",
       "      <td>8</td>\n",
       "      <td>2015</td>\n",
       "      <td>0</td>\n",
       "      <td>53</td>\n",
       "    </tr>\n",
       "    <tr>\n",
       "      <th>6916</th>\n",
       "      <td>1.52</td>\n",
       "      <td>311873.22</td>\n",
       "      <td>66760.95</td>\n",
       "      <td>105.13</td>\n",
       "      <td>127089.16</td>\n",
       "      <td>6</td>\n",
       "      <td>2017</td>\n",
       "      <td>0</td>\n",
       "      <td>24</td>\n",
       "    </tr>\n",
       "    <tr>\n",
       "      <th>4153</th>\n",
       "      <td>0.99</td>\n",
       "      <td>654357.46</td>\n",
       "      <td>1639480.98</td>\n",
       "      <td>144264.21</td>\n",
       "      <td>735357.59</td>\n",
       "      <td>2</td>\n",
       "      <td>2016</td>\n",
       "      <td>0</td>\n",
       "      <td>25</td>\n",
       "    </tr>\n",
       "    <tr>\n",
       "      <th>2744</th>\n",
       "      <td>0.99</td>\n",
       "      <td>2511453.54</td>\n",
       "      <td>2163704.41</td>\n",
       "      <td>101626.05</td>\n",
       "      <td>591547.44</td>\n",
       "      <td>3</td>\n",
       "      <td>2015</td>\n",
       "      <td>0</td>\n",
       "      <td>52</td>\n",
       "    </tr>\n",
       "    <tr>\n",
       "      <th>5000</th>\n",
       "      <td>2.20</td>\n",
       "      <td>130025.36</td>\n",
       "      <td>285048.20</td>\n",
       "      <td>3399.09</td>\n",
       "      <td>59465.15</td>\n",
       "      <td>10</td>\n",
       "      <td>2016</td>\n",
       "      <td>0</td>\n",
       "      <td>42</td>\n",
       "    </tr>\n",
       "  </tbody>\n",
       "</table>\n",
       "</div>"
      ],
      "text/plain": [
       "      AveragePrice        4046        4225       4770   otherPLU  Month  year  \\\n",
       "2776          0.74   576883.27   154758.26   20222.28  134020.11      8  2015   \n",
       "6916          1.52   311873.22    66760.95     105.13  127089.16      6  2017   \n",
       "4153          0.99   654357.46  1639480.98  144264.21  735357.59      2  2016   \n",
       "2744          0.99  2511453.54  2163704.41  101626.05  591547.44      3  2015   \n",
       "5000          2.20   130025.36   285048.20    3399.09   59465.15     10  2016   \n",
       "\n",
       "      type_organic  region  \n",
       "2776             0      53  \n",
       "6916             0      24  \n",
       "4153             0      25  \n",
       "2744             0      52  \n",
       "5000             0      42  "
      ]
     },
     "execution_count": 21,
     "metadata": {},
     "output_type": "execute_result"
    }
   ],
   "source": [
    "dfavocadofinal.sample(n=5)"
   ]
  },
  {
   "cell_type": "code",
   "execution_count": 55,
   "id": "4153c354",
   "metadata": {},
   "outputs": [
    {
     "data": {
      "text/plain": [
       "<AxesSubplot:>"
      ]
     },
     "execution_count": 55,
     "metadata": {},
     "output_type": "execute_result"
    },
    {
     "data": {
      "image/png": "[encoded data removed]",
      "text/plain": [
       "<Figure size 720x432 with 2 Axes>"
      ]
     },
     "metadata": {},
     "output_type": "display_data"
    }
   ],
   "source": [
    "plt.figure(figsize=(10,6))\n",
    "sns.heatmap(dfavocadofinal[['AveragePrice','4046','4225','4770','otherPLU']].corr(),annot=True)"
   ]
  },
  {
   "cell_type": "code",
   "execution_count": 59,
   "id": "a38f5c47",
   "metadata": {},
   "outputs": [
    {
     "data": {
      "text/plain": [
       "<AxesSubplot:xlabel='AveragePrice', ylabel='Count'>"
      ]
     },
     "execution_count": 59,
     "metadata": {},
     "output_type": "execute_result"
    },
    {
     "data": {
      "image/png": "[encoded data removed]",
      "text/plain": [
       "<Figure size 576x396 with 1 Axes>"
      ]
     },
     "metadata": {},
     "output_type": "display_data"
    }
   ],
   "source": [
    "sns.histplot(dfavocadofinal['AveragePrice'],kde=True,bins=30)"
   ]
  },
  {
   "cell_type": "markdown",
   "id": "dbb0d1be",
   "metadata": {},
   "source": [
    "<a name = Section41></a>\n",
    "### **Splitting the Data**"
   ]
  },
  {
   "cell_type": "code",
   "execution_count": 22,
   "id": "763e65d9",
   "metadata": {},
   "outputs": [],
   "source": [
    "X=dfavocadofinal.drop('AveragePrice',axis=1)\n",
    "y=dfavocadofinal['AveragePrice']"
   ]
  },
  {
   "cell_type": "code",
   "execution_count": 23,
   "id": "ae8ea8bf",
   "metadata": {},
   "outputs": [],
   "source": [
    "X_train, X_test, y_train, y_test = train_test_split(X, y, test_size=0.20, random_state=1)"
   ]
  },
  {
   "cell_type": "markdown",
   "id": "23a56670",
   "metadata": {},
   "source": [
    "<a name = Section41></a>\n",
    "### **Train and Predict Using LinearRegression Model**"
   ]
  },
  {
   "cell_type": "code",
   "execution_count": 24,
   "id": "8c61aeff",
   "metadata": {},
   "outputs": [],
   "source": [
    "lr=LinearRegression()"
   ]
  },
  {
   "cell_type": "code",
   "execution_count": 25,
   "id": "931c4228",
   "metadata": {},
   "outputs": [
    {
     "data": {
      "text/plain": [
       "LinearRegression()"
      ]
     },
     "execution_count": 25,
     "metadata": {},
     "output_type": "execute_result"
    }
   ],
   "source": [
    "lr.fit(X_train,y_train)"
   ]
  },
  {
   "cell_type": "code",
   "execution_count": 26,
   "id": "d91113db",
   "metadata": {},
   "outputs": [],
   "source": [
    "predictions=lr.predict(X_test)"
   ]
  },
  {
   "cell_type": "code",
   "execution_count": 27,
   "id": "8d47c4ee",
   "metadata": {},
   "outputs": [
    {
     "data": {
      "text/plain": [
       "<AxesSubplot:xlabel='AveragePrice'>"
      ]
     },
     "execution_count": 27,
     "metadata": {},
     "output_type": "execute_result"
    },
    {
     "data": {
      "image/png": "[encoded data removed]",
      "text/plain": [
       "<Figure size 576x396 with 1 Axes>"
      ]
     },
     "metadata": {},
     "output_type": "display_data"
    }
   ],
   "source": [
    "sns.regplot(y_test,predictions)"
   ]
  },
  {
   "cell_type": "code",
   "execution_count": 28,
   "id": "42375a81",
   "metadata": {},
   "outputs": [
    {
     "name": "stdout",
     "output_type": "stream",
     "text": [
      "MAE is 0.23461570173570817\n",
      "MSE for test set is 0.09135451807686062\n",
      "RMSE for test set is 0.3022490993813888\n",
      "R2 score for test set is 0.43755555939251656\n",
      "Adjusted R2 score for test set is 0.43631975727088523\n"
     ]
    }
   ],
   "source": [
    "MAE = metrics.mean_absolute_error(y_test, predictions)   \n",
    "print('MAE is {}'.format(MAE))\n",
    "\n",
    "MSE = metrics.mean_squared_error(y_test, predictions)\n",
    "print('MSE for test set is {}'.format(MSE))\n",
    "\n",
    "RMSE = np.sqrt(metrics.mean_squared_error(y_test, predictions))\n",
    "print('RMSE for test set is {}'.format(RMSE))\n",
    "\n",
    "r2 = metrics.r2_score(y_test,predictions)\n",
    "print(\"R2 score for test set is {}\".format(r2))\n",
    "\n",
    "adj_r_squared = 1 - (1-r2)*(len(y_test)-1)/(len(y_test)-X_test.shape[1]-1)\n",
    "print(\"Adjusted R2 score for test set is {}\".format(adj_r_squared))"
   ]
  },
  {
   "cell_type": "markdown",
   "id": "57435e44",
   "metadata": {},
   "source": [
    "<a name = Section41></a>\n",
    "###  Applying Scaling on the Features 4046,4225,4770 and otherPLU "
   ]
  },
  {
   "cell_type": "code",
   "execution_count": 29,
   "id": "1878441d",
   "metadata": {},
   "outputs": [
    {
     "data": {
      "text/html": [
       "<div>\n",
       "<style scoped>\n",
       "    .dataframe tbody tr th:only-of-type {\n",
       "        vertical-align: middle;\n",
       "    }\n",
       "\n",
       "    .dataframe tbody tr th {\n",
       "        vertical-align: top;\n",
       "    }\n",
       "\n",
       "    .dataframe thead th {\n",
       "        text-align: right;\n",
       "    }\n",
       "</style>\n",
       "<table border=\"1\" class=\"dataframe\">\n",
       "  <thead>\n",
       "    <tr style=\"text-align: right;\">\n",
       "      <th></th>\n",
       "      <th>AveragePrice</th>\n",
       "      <th>4046</th>\n",
       "      <th>4225</th>\n",
       "      <th>4770</th>\n",
       "      <th>otherPLU</th>\n",
       "      <th>Month</th>\n",
       "      <th>year</th>\n",
       "      <th>type_organic</th>\n",
       "      <th>region</th>\n",
       "    </tr>\n",
       "  </thead>\n",
       "  <tbody>\n",
       "    <tr>\n",
       "      <th>5257</th>\n",
       "      <td>1.14</td>\n",
       "      <td>9351.32</td>\n",
       "      <td>25545.36</td>\n",
       "      <td>24.20</td>\n",
       "      <td>46097.43</td>\n",
       "      <td>11</td>\n",
       "      <td>2016</td>\n",
       "      <td>0</td>\n",
       "      <td>47</td>\n",
       "    </tr>\n",
       "    <tr>\n",
       "      <th>11615</th>\n",
       "      <td>1.51</td>\n",
       "      <td>1630.04</td>\n",
       "      <td>2660.43</td>\n",
       "      <td>0.00</td>\n",
       "      <td>158.64</td>\n",
       "      <td>2</td>\n",
       "      <td>2015</td>\n",
       "      <td>1</td>\n",
       "      <td>47</td>\n",
       "    </tr>\n",
       "    <tr>\n",
       "      <th>388</th>\n",
       "      <td>1.18</td>\n",
       "      <td>23580.70</td>\n",
       "      <td>56317.45</td>\n",
       "      <td>35107.11</td>\n",
       "      <td>67851.56</td>\n",
       "      <td>7</td>\n",
       "      <td>2015</td>\n",
       "      <td>0</td>\n",
       "      <td>7</td>\n",
       "    </tr>\n",
       "    <tr>\n",
       "      <th>8562</th>\n",
       "      <td>1.32</td>\n",
       "      <td>68088.95</td>\n",
       "      <td>87220.18</td>\n",
       "      <td>5567.45</td>\n",
       "      <td>97670.97</td>\n",
       "      <td>3</td>\n",
       "      <td>2018</td>\n",
       "      <td>0</td>\n",
       "      <td>7</td>\n",
       "    </tr>\n",
       "    <tr>\n",
       "      <th>13376</th>\n",
       "      <td>1.26</td>\n",
       "      <td>516.41</td>\n",
       "      <td>9.02</td>\n",
       "      <td>0.00</td>\n",
       "      <td>2943.35</td>\n",
       "      <td>3</td>\n",
       "      <td>2016</td>\n",
       "      <td>1</td>\n",
       "      <td>27</td>\n",
       "    </tr>\n",
       "  </tbody>\n",
       "</table>\n",
       "</div>"
      ],
      "text/plain": [
       "       AveragePrice      4046      4225      4770  otherPLU  Month  year  \\\n",
       "5257           1.14   9351.32  25545.36     24.20  46097.43     11  2016   \n",
       "11615          1.51   1630.04   2660.43      0.00    158.64      2  2015   \n",
       "388            1.18  23580.70  56317.45  35107.11  67851.56      7  2015   \n",
       "8562           1.32  68088.95  87220.18   5567.45  97670.97      3  2018   \n",
       "13376          1.26    516.41      9.02      0.00   2943.35      3  2016   \n",
       "\n",
       "       type_organic  region  \n",
       "5257              0      47  \n",
       "11615             1      47  \n",
       "388               0       7  \n",
       "8562              0       7  \n",
       "13376             1      27  "
      ]
     },
     "execution_count": 29,
     "metadata": {},
     "output_type": "execute_result"
    }
   ],
   "source": [
    "dfavocadofinal.sample(n=5)"
   ]
  },
  {
   "cell_type": "code",
   "execution_count": 30,
   "id": "e6279a9a",
   "metadata": {},
   "outputs": [],
   "source": [
    "ss=StandardScaler()"
   ]
  },
  {
   "cell_type": "code",
   "execution_count": 31,
   "id": "c2cb6ba5",
   "metadata": {},
   "outputs": [],
   "source": [
    "scalardata=ss.fit(X[['4046','4225','4770','otherPLU']])"
   ]
  },
  {
   "cell_type": "code",
   "execution_count": 32,
   "id": "5c44bd08",
   "metadata": {},
   "outputs": [],
   "source": [
    "data=scalardata.transform(X[['4046','4225','4770','otherPLU']])"
   ]
  },
  {
   "cell_type": "code",
   "execution_count": 33,
   "id": "be7ae0d1",
   "metadata": {},
   "outputs": [],
   "source": [
    "data=pd.DataFrame(data,columns=['4046','4225','4770','otherPLU'])"
   ]
  },
  {
   "cell_type": "code",
   "execution_count": 34,
   "id": "1aeeb838",
   "metadata": {},
   "outputs": [],
   "source": [
    "X.drop(columns=['4046','4225','4770','otherPLU'],inplace=True)"
   ]
  },
  {
   "cell_type": "code",
   "execution_count": 35,
   "id": "4b4ba0d3",
   "metadata": {},
   "outputs": [],
   "source": [
    "X=X.join(data)"
   ]
  },
  {
   "cell_type": "code",
   "execution_count": 36,
   "id": "72623897",
   "metadata": {},
   "outputs": [
    {
     "data": {
      "text/html": [
       "<div>\n",
       "<style scoped>\n",
       "    .dataframe tbody tr th:only-of-type {\n",
       "        vertical-align: middle;\n",
       "    }\n",
       "\n",
       "    .dataframe tbody tr th {\n",
       "        vertical-align: top;\n",
       "    }\n",
       "\n",
       "    .dataframe thead th {\n",
       "        text-align: right;\n",
       "    }\n",
       "</style>\n",
       "<table border=\"1\" class=\"dataframe\">\n",
       "  <thead>\n",
       "    <tr style=\"text-align: right;\">\n",
       "      <th></th>\n",
       "      <th>Month</th>\n",
       "      <th>year</th>\n",
       "      <th>type_organic</th>\n",
       "      <th>region</th>\n",
       "      <th>4046</th>\n",
       "      <th>4225</th>\n",
       "      <th>4770</th>\n",
       "      <th>otherPLU</th>\n",
       "    </tr>\n",
       "  </thead>\n",
       "  <tbody>\n",
       "    <tr>\n",
       "      <th>0</th>\n",
       "      <td>12</td>\n",
       "      <td>2015</td>\n",
       "      <td>0</td>\n",
       "      <td>0</td>\n",
       "      <td>-0.230816</td>\n",
       "      <td>-0.199902</td>\n",
       "      <td>-0.212091</td>\n",
       "      <td>-0.234172</td>\n",
       "    </tr>\n",
       "    <tr>\n",
       "      <th>1</th>\n",
       "      <td>12</td>\n",
       "      <td>2015</td>\n",
       "      <td>0</td>\n",
       "      <td>0</td>\n",
       "      <td>-0.231103</td>\n",
       "      <td>-0.208054</td>\n",
       "      <td>-0.211997</td>\n",
       "      <td>-0.233352</td>\n",
       "    </tr>\n",
       "    <tr>\n",
       "      <th>2</th>\n",
       "      <td>12</td>\n",
       "      <td>2015</td>\n",
       "      <td>0</td>\n",
       "      <td>0</td>\n",
       "      <td>-0.231007</td>\n",
       "      <td>-0.154478</td>\n",
       "      <td>-0.211325</td>\n",
       "      <td>-0.234732</td>\n",
       "    </tr>\n",
       "    <tr>\n",
       "      <th>3</th>\n",
       "      <td>12</td>\n",
       "      <td>2015</td>\n",
       "      <td>0</td>\n",
       "      <td>0</td>\n",
       "      <td>-0.230741</td>\n",
       "      <td>-0.185350</td>\n",
       "      <td>-0.211864</td>\n",
       "      <td>-0.237098</td>\n",
       "    </tr>\n",
       "    <tr>\n",
       "      <th>4</th>\n",
       "      <td>11</td>\n",
       "      <td>2015</td>\n",
       "      <td>0</td>\n",
       "      <td>0</td>\n",
       "      <td>-0.230891</td>\n",
       "      <td>-0.208719</td>\n",
       "      <td>-0.211834</td>\n",
       "      <td>-0.236720</td>\n",
       "    </tr>\n",
       "  </tbody>\n",
       "</table>\n",
       "</div>"
      ],
      "text/plain": [
       "   Month  year  type_organic  region      4046      4225      4770  otherPLU\n",
       "0     12  2015             0       0 -0.230816 -0.199902 -0.212091 -0.234172\n",
       "1     12  2015             0       0 -0.231103 -0.208054 -0.211997 -0.233352\n",
       "2     12  2015             0       0 -0.231007 -0.154478 -0.211325 -0.234732\n",
       "3     12  2015             0       0 -0.230741 -0.185350 -0.211864 -0.237098\n",
       "4     11  2015             0       0 -0.230891 -0.208719 -0.211834 -0.236720"
      ]
     },
     "execution_count": 36,
     "metadata": {},
     "output_type": "execute_result"
    }
   ],
   "source": [
    "X.head()"
   ]
  },
  {
   "cell_type": "code",
   "execution_count": 37,
   "id": "d0982b22",
   "metadata": {},
   "outputs": [],
   "source": [
    "X_train, X_test, y_train, y_test = train_test_split(X, y, test_size=0.20, random_state=1)"
   ]
  },
  {
   "cell_type": "code",
   "execution_count": 38,
   "id": "0bc26647",
   "metadata": {},
   "outputs": [
    {
     "data": {
      "text/plain": [
       "LinearRegression()"
      ]
     },
     "execution_count": 38,
     "metadata": {},
     "output_type": "execute_result"
    }
   ],
   "source": [
    "lr.fit(X_train,y_train)"
   ]
  },
  {
   "cell_type": "code",
   "execution_count": 39,
   "id": "1ec4614c",
   "metadata": {},
   "outputs": [],
   "source": [
    "predictions=lr.predict(X_test)"
   ]
  },
  {
   "cell_type": "code",
   "execution_count": 40,
   "id": "6060a4a4",
   "metadata": {},
   "outputs": [
    {
     "data": {
      "text/plain": [
       "<AxesSubplot:xlabel='AveragePrice'>"
      ]
     },
     "execution_count": 40,
     "metadata": {},
     "output_type": "execute_result"
    },
    {
     "data": {
      "image/png": "[encoded data removed]",
      "text/plain": [
       "<Figure size 576x396 with 1 Axes>"
      ]
     },
     "metadata": {},
     "output_type": "display_data"
    }
   ],
   "source": [
    "sns.regplot(y_test,predictions)"
   ]
  },
  {
   "cell_type": "code",
   "execution_count": 41,
   "id": "52f894bc",
   "metadata": {},
   "outputs": [
    {
     "name": "stdout",
     "output_type": "stream",
     "text": [
      "MAE is 0.23461570173570936\n",
      "MSE for test set is 0.09135451807686151\n",
      "RMSE for test set is 0.3022490993813902\n",
      "R2 score for test set is 0.4375555593925111\n",
      "Adjusted R2 score for test set is 0.4363197572708797\n"
     ]
    }
   ],
   "source": [
    "MAE = metrics.mean_absolute_error(y_test, predictions)   \n",
    "print('MAE is {}'.format(MAE))\n",
    "\n",
    "MSE = metrics.mean_squared_error(y_test, predictions)\n",
    "print('MSE for test set is {}'.format(MSE))\n",
    "\n",
    "RMSE = np.sqrt(metrics.mean_squared_error(y_test, predictions))\n",
    "print('RMSE for test set is {}'.format(RMSE))\n",
    "\n",
    "r2 = metrics.r2_score(y_test,predictions)\n",
    "print(\"R2 score for test set is {}\".format(r2))\n",
    "\n",
    "adj_r_squared = 1 - (1-r2)*(len(y_test)-1)/(len(y_test)-X_test.shape[1]-1)\n",
    "print(\"Adjusted R2 score for test set is {}\".format(adj_r_squared))"
   ]
  },
  {
   "cell_type": "markdown",
   "id": "e2a5ad5c",
   "metadata": {},
   "source": [
    "<a name = Section41></a>\n",
    "### **Train and Predict Using RandomForestRegressor Model**"
   ]
  },
  {
   "cell_type": "code",
   "execution_count": 42,
   "id": "d88325ac",
   "metadata": {},
   "outputs": [],
   "source": [
    "from sklearn.ensemble import RandomForestRegressor"
   ]
  },
  {
   "cell_type": "code",
   "execution_count": 43,
   "id": "a2be4a4d",
   "metadata": {},
   "outputs": [],
   "source": [
    "rfc=RandomForestRegressor(n_estimators=20,random_state=70)"
   ]
  },
  {
   "cell_type": "code",
   "execution_count": 44,
   "id": "a8db9b60",
   "metadata": {},
   "outputs": [
    {
     "data": {
      "text/plain": [
       "RandomForestRegressor(n_estimators=20, random_state=70)"
      ]
     },
     "execution_count": 44,
     "metadata": {},
     "output_type": "execute_result"
    }
   ],
   "source": [
    "rfc.fit(X_train,y_train)"
   ]
  },
  {
   "cell_type": "code",
   "execution_count": 45,
   "id": "8ac205c4",
   "metadata": {},
   "outputs": [],
   "source": [
    "predictions1=rfc.predict(X_test)"
   ]
  },
  {
   "cell_type": "code",
   "execution_count": 46,
   "id": "980fcfb4",
   "metadata": {},
   "outputs": [
    {
     "name": "stdout",
     "output_type": "stream",
     "text": [
      "MAE for Test is 0.09246643835616437\n",
      "MSE for Test set is 0.018146768698630137\n",
      "RMSE for Test set is 0.13470994283507856\n",
      "R2 score for Test set is 0.8882753761456309\n",
      "Adjusted R2 score for Test set is 0.8880298949616608\n"
     ]
    }
   ],
   "source": [
    "MAE = metrics.mean_absolute_error(y_test, predictions1)   \n",
    "print('MAE for Test is {}'.format(MAE))\n",
    "\n",
    "MSE = metrics.mean_squared_error(y_test, predictions1)\n",
    "print('MSE for Test set is {}'.format(MSE))\n",
    "\n",
    "RMSE = np.sqrt(metrics.mean_squared_error(y_test, predictions1))\n",
    "print('RMSE for Test set is {}'.format(RMSE))\n",
    "\n",
    "r2 = metrics.r2_score(y_test,predictions1)\n",
    "print(\"R2 score for Test set is {}\".format(r2))\n",
    "\n",
    "adj_r_squared = 1 - (1-r2)*(len(y_test)-1)/(len(y_test)-X_test.shape[1]-1)\n",
    "print(\"Adjusted R2 score for Test set is {}\".format(adj_r_squared))"
   ]
  },
  {
   "cell_type": "code",
   "execution_count": 47,
   "id": "1637e6df",
   "metadata": {},
   "outputs": [
    {
     "data": {
      "text/plain": [
       "<AxesSubplot:xlabel='AveragePrice'>"
      ]
     },
     "execution_count": 47,
     "metadata": {},
     "output_type": "execute_result"
    },
    {
     "data": {
      "image/png": "[encoded data removed]",
      "text/plain": [
       "<Figure size 576x396 with 1 Axes>"
      ]
     },
     "metadata": {},
     "output_type": "display_data"
    }
   ],
   "source": [
    "sns.regplot(y_test,predictions1)"
   ]
  },
  {
   "cell_type": "markdown",
   "id": "edac4105",
   "metadata": {},
   "source": [
    "<a name = Section41></a>\n",
    "### **Train and Predict Using DecisionTreeRegressor Model**"
   ]
  },
  {
   "cell_type": "code",
   "execution_count": 48,
   "id": "4ceeb56f",
   "metadata": {},
   "outputs": [],
   "source": [
    "from sklearn.tree import DecisionTreeRegressor"
   ]
  },
  {
   "cell_type": "code",
   "execution_count": 49,
   "id": "1e191dc6",
   "metadata": {},
   "outputs": [],
   "source": [
    "dt=DecisionTreeRegressor(random_state=70)"
   ]
  },
  {
   "cell_type": "code",
   "execution_count": 50,
   "id": "3bbeb5a7",
   "metadata": {},
   "outputs": [
    {
     "data": {
      "text/plain": [
       "DecisionTreeRegressor(random_state=70)"
      ]
     },
     "execution_count": 50,
     "metadata": {},
     "output_type": "execute_result"
    }
   ],
   "source": [
    "dt.fit(X_train,y_train)"
   ]
  },
  {
   "cell_type": "code",
   "execution_count": 51,
   "id": "9760d930",
   "metadata": {},
   "outputs": [],
   "source": [
    "predictions2=dt.predict(X_test)"
   ]
  },
  {
   "cell_type": "code",
   "execution_count": 52,
   "id": "a1f85dae",
   "metadata": {},
   "outputs": [
    {
     "data": {
      "text/plain": [
       "<AxesSubplot:xlabel='AveragePrice'>"
      ]
     },
     "execution_count": 52,
     "metadata": {},
     "output_type": "execute_result"
    },
    {
     "data": {
      "image/png": "[encoded data removed]",
      "text/plain": [
       "<Figure size 576x396 with 1 Axes>"
      ]
     },
     "metadata": {},
     "output_type": "display_data"
    }
   ],
   "source": [
    "sns.regplot(y_test,predictions2)"
   ]
  },
  {
   "cell_type": "code",
   "execution_count": 53,
   "id": "40c4c079",
   "metadata": {},
   "outputs": [
    {
     "name": "stdout",
     "output_type": "stream",
     "text": [
      "MAE for Test is 0.1186986301369863\n",
      "MSE for Test set is 0.035487260273972594\n",
      "RMSE for Test set is 0.18838062605791656\n",
      "R2 score for Test set is 0.7815147770064993\n",
      "Adjusted R2 score for Test set is 0.781034721586574\n"
     ]
    }
   ],
   "source": [
    "MAE = metrics.mean_absolute_error(y_test, predictions2)   \n",
    "print('MAE for Test is {}'.format(MAE))\n",
    "\n",
    "MSE = metrics.mean_squared_error(y_test, predictions2)\n",
    "print('MSE for Test set is {}'.format(MSE))\n",
    "\n",
    "RMSE = np.sqrt(metrics.mean_squared_error(y_test, predictions2))\n",
    "print('RMSE for Test set is {}'.format(RMSE))\n",
    "\n",
    "r2 = metrics.r2_score(y_test,predictions2)\n",
    "print(\"R2 score for Test set is {}\".format(r2))\n",
    "\n",
    "adj_r_squared = 1 - (1-r2)*(len(y_test)-1)/(len(y_test)-X_test.shape[1]-1)\n",
    "print(\"Adjusted R2 score for Test set is {}\".format(adj_r_squared))"
   ]
  },
  {
   "cell_type": "markdown",
   "id": "9a1f734e",
   "metadata": {},
   "source": [
    "<a name = Section41></a>\n",
    "### **Conclusion**"
   ]
  },
  {
   "cell_type": "markdown",
   "id": "d182f5a4",
   "metadata": {},
   "source": [
    "Among the three Models, RandomForest gave best predictions"
   ]
  },
  {
   "cell_type": "code",
   "execution_count": null,
   "id": "ed90af69",
   "metadata": {},
   "outputs": [],
   "source": []
  }
 ],
 "metadata": {
  "kernelspec": {
   "display_name": "Python 3 (ipykernel)",
   "language": "python",
   "name": "python3"
  },
  "language_info": {
   "codemirror_mode": {
    "name": "ipython",
    "version": 3
   },
   "file_extension": ".py",
   "mimetype": "text/x-python",
   "name": "python",
   "nbconvert_exporter": "python",
   "pygments_lexer": "ipython3",
   "version": "3.8.12"
  }
 },
 "nbformat": 4,
 "nbformat_minor": 5
}
